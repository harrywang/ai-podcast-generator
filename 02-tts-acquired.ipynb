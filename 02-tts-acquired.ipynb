{
 "cells": [
  {
   "cell_type": "code",
   "execution_count": 11,
   "metadata": {},
   "outputs": [],
   "source": [
    "from openai import OpenAI\n",
    "client = OpenAI()\n",
    "# alloy, echo, fable, onyx, nova, and shimmer\n",
    "# female: alloy, nova, shimmer | male: echo, fable, onyx\n",
    "\n",
    "def speak(text, voice, index):\n",
    "    response = client.audio.speech.create(\n",
    "        model=\"tts-1\",\n",
    "        voice=voice,\n",
    "        input=text\n",
    "    )\n",
    "    response.stream_to_file(f\"./audio/{index}.mp3\")\n",
    "\n",
    "#speak(\"hello\", \"onyx\", 1)\n",
    "\n",
    "speaker1 = \"alloy\"\n",
    "speaker2 = \"nova\""
   ]
  },
  {
   "cell_type": "code",
   "execution_count": 12,
   "metadata": {},
   "outputs": [
    {
     "name": "stdout",
     "output_type": "stream",
     "text": [
      "All right, let’s do it. Welcome to season 14, episode 3 of Acquired, the podcast about great companies and the stories and playbooks behind them. I’m Alex.\n",
      "All right, let’s do it. Welcome to season 14, episode 3 of Acquired, the podcast about great companies and the stories and playbooks behind them. I’m Alex.\n"
     ]
    },
    {
     "name": "stderr",
     "output_type": "stream",
     "text": [
      "/var/folders/h1/h4_qz8ms2_dcnjnvrdj31tlw0000gn/T/ipykernel_97455/575095054.py:12: DeprecationWarning: Due to a bug, this method doesn't actually stream the response content, `.with_streaming_response.method()` should be used instead\n",
      "  response.stream_to_file(f\"./audio/{index}.mp3\")\n"
     ]
    },
    {
     "name": "stdout",
     "output_type": "stream",
     "text": [
      "\n",
      "\n",
      "I’m Isabel.\n",
      "I’m Isabel.\n",
      "\n",
      "\n",
      "And we are your hosts. They say, Isabel, that as an investor, you can’t beat the market or time the market, that you’re better off indexing and dollar cost averaging rather than trying to be an active stock picker. They say there’s no persistence of returns for hedge funds, that this year’s big winner can be next year’s big loser, and that nobody gets huge outperformance without taking huge risk.\n",
      "And we are your hosts. They say, Isabel, that as an investor, you can’t beat the market or time the market, that you’re better off indexing and dollar cost averaging rather than trying to be an active stock picker. They say there’s no persistence of returns for hedge funds, that this year’s big winner can be next year’s big loser, and that nobody gets huge outperformance without taking huge risk.\n",
      "\n",
      "\n",
      "When I was in college, I actually took an economics class with Burton Malkiel, who of course was involved in starting Vanguard and who’s a big proponent of all that. And that is what I learned, Alice.\n",
      "When I was in college, I actually took an economics class with Burton Malkiel, who of course was involved in starting Vanguard and who’s a big proponent of all that. And that is what I learned, Alice.\n",
      "\n",
      "\n",
      "Well, Isabel, it turns out they were wrong. Today, listeners, we tell the story of the best performing investment firm in history—Renaissance Technologies or RenTech. Their 30-year track record managing billions of dollars has better returns than anyone you have ever heard of, including Berkshire Hathaway, Bridgewater, George Soros, Peter Lynch, or anyone else. So why haven’t you heard of them? Or if you have, why don’t you know much about them? Well, their eye-popping performance is matched only by their extreme secrecy, and they are unusual in almost every way. Their founder, Jim Simons, worked for the US government in the Cold War as a codebreaker before starting Renaissance. None of the founders or early employees had any investing background, and they built the entire thing by hiring PhD physicists, astronomers, and speech recognition researchers. They’re located in the middle of nowhere in a tiny town on Long Island. They don’t pay attention to revenues, profits, or even who the CEOs are of the companies that they invest in. And at any given time, they probably couldn’t even tell you what actual stocks they own. Now you may be thinking, okay, great, I just learned about this insane fund with unbelievable performance—to be specific listeners, that’s 66% annual returns before fees—and I want to invest. Well, you can’t. To add to everything else that I just said, RenTech’s flagship Medallion fund doesn’t take any outside investors. The partners of the firm have become so wealthy from the billions that the fund has generated that the only investors they allow in are themselves.\n",
      "Well, Isabel, it turns out they were wrong. Today, listeners, we tell the story of the best performing investment firm in history—Renaissance Technologies or RenTech. Their 30-year track record managing billions of dollars has better returns than anyone you have ever heard of, including Berkshire Hathaway, Bridgewater, George Soros, Peter Lynch, or anyone else. So why haven’t you heard of them? Or if you have, why don’t you know much about them? Well, their eye-popping performance is matched only by their extreme secrecy, and they are unusual in almost every way. Their founder, Jim Simons, worked for the US government in the Cold War as a codebreaker before starting Renaissance. None of the founders or early employees had any investing background, and they built the entire thing by hiring PhD physicists, astronomers, and speech recognition researchers. They’re located in the middle of nowhere in a tiny town on Long Island. They don’t pay attention to revenues, profits, or even who the CEOs are of the companies that they invest in. And at any given time, they probably couldn’t even tell you what actual stocks they own. Now you may be thinking, okay, great, I just learned about this insane fund with unbelievable performance—to be specific listeners, that’s 66% annual returns before fees—and I want to invest. Well, you can’t. To add to everything else that I just said, RenTech’s flagship Medallion fund doesn’t take any outside investors. The partners of the firm have become so wealthy from the billions that the fund has generated that the only investors they allow in are themselves.\n",
      "\n",
      "\n",
      "Oh, we are going to talk a lot about that towards the end of the episode, because I think it’s the key to the whole thing.\n",
      "Oh, we are going to talk a lot about that towards the end of the episode, because I think it’s the key to the whole thing.\n",
      "\n",
      "\n",
      "Ooh, Cliffhanger. Isabel. I’m excited. So what exactly does Renaissance do? Why does it work? And how did it evolve to be the way it is today? While the resources out there are scarce because for one, employees sign a lifetime non-disclosure agreement, Isabel and I are going to take you through everything we’ve learned about the firm from our research dating all the way back before Jim Simons started as a math professor to understand it all.\n",
      "Ooh, Cliffhanger. Isabel. I’m excited. So what exactly does Renaissance do? Why does it work? And how did it evolve to be the way it is today? While the resources out there are scarce because for one, employees sign a lifetime non-disclosure agreement, Isabel and I are going to take you through everything we’ve learned about the firm from our research dating all the way back before Jim Simons started as a math professor to understand it all.\n",
      "\n",
      "\n",
      "We start in 1938 in Newton, Massachusetts, which is a fairly wealthy suburb just outside of Boston, where one James Simons is born. Both of Jim’s parents were very, very smart, especially his mother, Marsha. His dad was a salesman for 20th Century Fox, the movie company. His job was he went around to theaters in the northeast and sold packages of movies to them.\n",
      "We start in 1938 in Newton, Massachusetts, which is a fairly wealthy suburb just outside of Boston, where one James Simons is born. Both of Jim’s parents were very, very smart, especially his mother, Marsha. His dad was a salesman for 20th Century Fox, the movie company. His job was he went around to theaters in the northeast and sold packages of movies to them.\n",
      "\n",
      "\n",
      "Super cool.\n",
      "Super cool.\n",
      "\n",
      "\n",
      "By the way, we know all this because we have to thank Greg Zuckerman, author of The Man Who Solved the Market, which is the only book out there that is solely dedicated to RenTech and Jim Simons. We actually got to talk to Greg in our research. He helped us out a bunch. Thank you, Greg.\n",
      "By the way, we know all this because we have to thank Greg Zuckerman, author of The Man Who Solved the Market, which is the only book out there that is solely dedicated to RenTech and Jim Simons. We actually got to talk to Greg in our research. He helped us out a bunch. Thank you, Greg.\n",
      "\n",
      "\n",
      "And helped fact check a few of our assumptions of what happened after the book came out.\n",
      "And helped fact check a few of our assumptions of what happened after the book came out.\n",
      "\n",
      "\n",
      "So that was Jim’s parents, but really a major influence on him growing up was his grandfather, Marsha’s dad. There are already echoes of the Bezos story here with the grandfather, the mother’s father, spending a bunch of time with him, and rubbing off on young Jeff, or young Jim in this case. Bezos, of course, would get his start in his career at D. E. Shaw.\n",
      "So that was Jim’s parents, but really a major influence on him growing up was his grandfather, Marsha’s dad. There are already echoes of the Bezos story here with the grandfather, the mother’s father, spending a bunch of time with him, and rubbing off on young Jeff, or young Jim in this case. Bezos, of course, would get his start in his career at D. E. Shaw.\n",
      "\n",
      "\n",
      "A quant fund coming up at the same time as RenTech.\n",
      "A quant fund coming up at the same time as RenTech.\n"
     ]
    }
   ],
   "source": [
    "# read text file one line at a time\n",
    "# user 1 Claude female user 2 GPT male\n",
    "f = open('./text/acquired.txt')\n",
    "index = 0\n",
    "\n",
    "for line in f:\n",
    "    if line.startswith(\"Alice:\") or line.startswith(\"Isabel:\"):\n",
    "        line = line[7:].strip()\n",
    "    print(line)\n",
    "    if len(line) <= 2:  # some lines are empty\n",
    "        continue\n",
    "    # if index is odd, Claude speaks\n",
    "    index += 1\n",
    "    if index % 2 == 1:\n",
    "        print(line)\n",
    "        speak(line, speaker1, index)\n",
    "    else:\n",
    "        print(line)\n",
    "        speak(line, speaker2, index)\n",
    "f.close()"
   ]
  },
  {
   "cell_type": "code",
   "execution_count": 15,
   "metadata": {},
   "outputs": [
    {
     "name": "stdout",
     "output_type": "stream",
     "text": [
      "MoviePy - Writing audio in ./audio/acquired.mp3\n"
     ]
    },
    {
     "name": "stderr",
     "output_type": "stream",
     "text": [
      "                                                                      "
     ]
    },
    {
     "name": "stdout",
     "output_type": "stream",
     "text": [
      "MoviePy - Done.\n"
     ]
    },
    {
     "name": "stderr",
     "output_type": "stream",
     "text": [
      "\r"
     ]
    }
   ],
   "source": [
    "# combine all the mp3 files into one\n",
    "import moviepy.editor as mp\n",
    "clips = []\n",
    "for i in range(1, index + 1):\n",
    "    clips.append(mp.AudioFileClip(f\"./audio/{i}.mp3\"))\n",
    "\n",
    "final_clip = mp.concatenate_audioclips(clips)\n",
    "\n",
    "final_clip.write_audiofile(\"./audio/acquired.mp3\")"
   ]
  },
  {
   "cell_type": "code",
   "execution_count": 14,
   "metadata": {},
   "outputs": [
    {
     "name": "stdout",
     "output_type": "stream",
     "text": [
      "Total characters: 15044\n",
      "Total tts cost: $0.23\n"
     ]
    }
   ],
   "source": [
    "# cost $15.00 / 1M characters\n",
    "# 1M characters = 1M / 5 = 200k words\n",
    "\n",
    "# read the text file and get the total number of characters\n",
    "f = open('./text/conversation.txt')\n",
    "text = f.read()\n",
    "f.close()\n",
    "print(f\"Total characters: {len(text)}\")\n",
    "print(f\"Total tts cost: ${len(text) / 1_000_000 * 15:.2f}\")\n"
   ]
  },
  {
   "cell_type": "code",
   "execution_count": null,
   "metadata": {},
   "outputs": [],
   "source": []
  }
 ],
 "metadata": {
  "kernelspec": {
   "display_name": "venv",
   "language": "python",
   "name": "python3"
  },
  "language_info": {
   "codemirror_mode": {
    "name": "ipython",
    "version": 3
   },
   "file_extension": ".py",
   "mimetype": "text/x-python",
   "name": "python",
   "nbconvert_exporter": "python",
   "pygments_lexer": "ipython3",
   "version": "3.10.6"
  }
 },
 "nbformat": 4,
 "nbformat_minor": 2
}
